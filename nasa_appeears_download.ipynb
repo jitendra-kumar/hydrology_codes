{
 "cells": [
  {
   "cell_type": "markdown",
   "id": "918d9bf9-9fb4-4a21-8170-a08b72982a8f",
   "metadata": {},
   "source": [
    "# Automated download of data from NASA APPEEARS for USGS site/basin of interest and reformatting for use within ILAMB-Watershed"
   ]
  },
  {
   "cell_type": "code",
   "execution_count": 2,
   "id": "6bbc73f2-88c4-484e-9c4a-b659a0bb21a3",
   "metadata": {},
   "outputs": [],
   "source": [
    "# Import packages \n",
    "import requests as r\n",
    "import getpass, pprint, time, os, cgi, json\n",
    "import geopandas as gpd"
   ]
  },
  {
   "cell_type": "code",
   "execution_count": 23,
   "id": "186279a1-865b-4e40-9767-ce752e59b242",
   "metadata": {},
   "outputs": [],
   "source": [
    "AOIFILE='/home/jbk/projects/climate/interface/src/hydrology_codes/basin_07340300.json'"
   ]
  },
  {
   "cell_type": "markdown",
   "id": "fe166f86-9c44-4e5f-a38d-1d9349900f48",
   "metadata": {},
   "source": [
    "# NASA APPEEARS Products list\n",
    "https://appeears.earthdatacloud.nasa.gov/products\n",
    "\n",
    "# NASA APPEEARS REST API tutorial\n",
    "https://lpdaac.usgs.gov/resources/e-learning/getting-started-with-the-a%CF%81%CF%81eears-api-submitting-and-downloading-an-area-request/"
   ]
  },
  {
   "cell_type": "code",
   "execution_count": 65,
   "id": "fa1c05b0-f658-4079-8e1f-a8267bb18e6d",
   "metadata": {},
   "outputs": [],
   "source": [
    "# Set input directory, change working directory\n",
    "inDir = os.getcwd()                                    # IMPORTANT: Update to reflect directory on your OS\n",
    "os.chdir(inDir)                                        # Change to working directory\n",
    "api = 'https://appeears.earthdatacloud.nasa.gov/api/'  # Set the AρρEEARS API to a variable"
   ]
  },
  {
   "cell_type": "code",
   "execution_count": 4,
   "id": "7fd064ad-d03f-49d2-b794-00abb0599237",
   "metadata": {},
   "outputs": [
    {
     "name": "stdin",
     "output_type": "stream",
     "text": [
      "Enter NASA Earthdata Login Username:  ········\n",
      "Enter NASA Earthdata Login Password:  ········\n"
     ]
    }
   ],
   "source": [
    "# Login with NASA Earthdata Account\n",
    "user = getpass.getpass(prompt = 'Enter NASA Earthdata Login Username: ')      # Input NASA Earthdata Login Username\n",
    "password = getpass.getpass(prompt = 'Enter NASA Earthdata Login Password: ')  # Input NASA Earthdata Login Password"
   ]
  },
  {
   "cell_type": "code",
   "execution_count": 5,
   "id": "ec8ff1e0-c19a-4d3d-b14b-f90a2f28797a",
   "metadata": {},
   "outputs": [
    {
     "data": {
      "text/plain": [
       "{'token_type': 'Bearer',\n",
       " 'token': 'mV31XFKShbOBqS1yQmldQDOMQrfM7Uz0TGATDto22muGrZQjoI_4tzv9kBS6EIsWx_T-GZJ2dHOlH9oJgeXMfQ',\n",
       " 'expiration': '2023-04-03T17:22:37Z'}"
      ]
     },
     "execution_count": 5,
     "metadata": {},
     "output_type": "execute_result"
    }
   ],
   "source": [
    "token_response = r.post('{}login'.format(api), auth=(user, password)).json() # Insert API URL, call login service, provide credentials & return json\n",
    "del user, password                                                           # Remove user and password information\n",
    "token_response  "
   ]
  },
  {
   "cell_type": "code",
   "execution_count": 6,
   "id": "6d837e6b-cdb0-4498-8394-dc9198e5a7df",
   "metadata": {},
   "outputs": [
    {
     "name": "stdout",
     "output_type": "stream",
     "text": [
      "AρρEEARS currently supports 168 products.\n"
     ]
    }
   ],
   "source": [
    "product_response = r.get('{}product'.format(api)).json()                         # request all products in the product service\n",
    "print('AρρEEARS currently supports {} products.'.format(len(product_response)))  # Print no. products available in AppEEARS"
   ]
  },
  {
   "cell_type": "code",
   "execution_count": 11,
   "id": "18378ae9-0418-491e-b950-fe86439b902b",
   "metadata": {},
   "outputs": [],
   "source": [
    "all_products = {p['ProductAndVersion']: p for p in product_response} # Create a dictionary indexed by product name & version"
   ]
  },
  {
   "cell_type": "raw",
   "id": "0804cb00-667e-4f35-858d-cfc149e52a14",
   "metadata": {},
   "source": [
    "# Search for all products with \"Evapotranspiration\" in description\n",
    "for p in products:                                            # Make for loop to search list of products 'Description' for a keyword                \n",
    "    if 'Evapotranspiration' in products[p]['Description']:\n",
    "        pprint.pprint(products[p])                             # Print info for each product containing LAI in its description\n"
   ]
  },
  {
   "cell_type": "code",
   "execution_count": 9,
   "id": "439d806e-d223-4aa1-8278-ba8ef6e2d0c6",
   "metadata": {},
   "outputs": [],
   "source": [
    "\n",
    "products = ['MYD16A2.061', 'MCD15A2H.061', 'MYD17A2.061']                                         # Print information for MYD16A2.061 ET Product"
   ]
  },
  {
   "cell_type": "code",
   "execution_count": 18,
   "id": "d71e9966-7944-4bc6-bef4-3206ecbba09d",
   "metadata": {},
   "outputs": [
    {
     "name": "stdout",
     "output_type": "stream",
     "text": [
      "['ET_500m', 'ET_QC_500m', 'LE_500m', 'PET_500m', 'PLE_500m']\n"
     ]
    }
   ],
   "source": [
    "# Create list of products of interest\n",
    "# MYD16A2.061  ET -- MODIS Aqua\n",
    "# MCD15A2H.061 LAI -- combined MODIS\n",
    "# MYD17A2.061  GPP -- MODIS Aqua\n",
    "\n",
    "prod_list = ['MYD16A2.061', 'MCD15A2H.061', 'MYD17A2H.061']\n",
    "# Get the layers available from MYD16A2.061\n",
    "print(r.get('{}product/{}'.format(api, prod_list[0])).json().keys())\n",
    "# Get the layers available from MCD15A2H.61\n",
    "print(r.get('{}product/{}'.format(api, prod_list[1])).json().keys())\n",
    "# Get the layers available from MYD17A2.061\n",
    "print(r.get('{}product/{}'.format(api, prod_list[2])).json().keys())\n",
    "\n"
   ]
  },
  {
   "cell_type": "code",
   "execution_count": 22,
   "id": "ff195790-37d9-4aa4-b8e4-5d85edcacdbe",
   "metadata": {},
   "outputs": [
    {
     "data": {
      "text/plain": [
       "[{'layer': 'ET_500m', 'product': 'MYD16A2.061'},\n",
       " {'layer': 'PET_500m', 'product': 'MYD16A2.061'},\n",
       " {'layer': 'LAI_500m', 'product': 'MCD15A2H.061'},\n",
       " {'layer': 'GPP_500m', 'product': 'MYD17A2H.061'}]"
      ]
     },
     "execution_count": 22,
     "metadata": {},
     "output_type": "execute_result"
    }
   ],
   "source": [
    "\n",
    "# Get list of layers for this product\n",
    "# Add ET vars to the list of layers we want to request\n",
    "layers = [(prod_list[0],'ET_500m'),(prod_list[0],'PET_500m')]  # Create tupled list linking desired product with desired layers\n",
    "# Add LAI vars to the list of layers we want to request\n",
    "layers.append((prod_list[1],'LAI_500m'))\n",
    "# Add GPP vars to the list of layers we want to request\n",
    "layers.append((prod_list[2],'GPP_500m'))\n",
    "\n",
    "# Create a list of dictionaries \n",
    "prodLayer = []\n",
    "for l in layers:\n",
    "    prodLayer.append({\n",
    "            \"layer\": l[1],\n",
    "            \"product\": l[0]\n",
    "          })\n",
    "prodLayer"
   ]
  },
  {
   "cell_type": "code",
   "execution_count": 33,
   "id": "c09dce54-6a43-4fc3-a6ca-2d1ad8b415b4",
   "metadata": {},
   "outputs": [],
   "source": [
    "# Submit an Area Request\n",
    "# The Submit task API call provides a way to submit a new request to be processed. It can accept data via JSON, query string, or a combination of both. In the example below, compile a json and submit a request. Tasks in AρρEEARS correspond to each request associated with your user account. Therefore, each of the calls to this service requires an authentication token (see Section 1c.), which is stored in a header below.\n",
    "token = token_response['token']                      # Save login token to a variable\n",
    "head = {'Authorization': 'Bearer {}'.format(token)}  # Create a header to store token information, needed to submit a request"
   ]
  },
  {
   "cell_type": "code",
   "execution_count": 49,
   "id": "5e412436-5308-4b2a-8663-12502a67332c",
   "metadata": {},
   "outputs": [
    {
     "name": "stdout",
     "output_type": "stream",
     "text": [
      "  identifier                                           geometry\n",
      "0   07340300  POLYGON ((-94.25121 34.34012, -94.25177 34.341...\n"
     ]
    }
   ],
   "source": [
    "# Read a GeoJSON for the AOI\n",
    "aoi = gpd.read_file(AOIFILE) # Read in GeoJSON or Shapefile as dataframe using geopandas\n",
    "print(aoi.head())                                                # Print first few lines of dataframe\n",
    "aoi = json.loads(aoi.to_json())\n"
   ]
  },
  {
   "cell_type": "code",
   "execution_count": 28,
   "id": "fe535a19-0d12-4379-ae27-a3b4a03fa60f",
   "metadata": {},
   "outputs": [
    {
     "data": {
      "text/plain": [
       "['native',\n",
       " 'geographic',\n",
       " 'sinu_modis',\n",
       " 'albers_weld_alaska',\n",
       " 'albers_weld_conus',\n",
       " 'albers_ard_alaska',\n",
       " 'albers_ard_conus',\n",
       " 'albers_ard_hawaii',\n",
       " 'easegrid_2_global',\n",
       " 'easegrid_2_north']"
      ]
     },
     "execution_count": 28,
     "metadata": {},
     "output_type": "execute_result"
    }
   ],
   "source": [
    "# Projections supported by APPEEARS\n",
    "projections = r.get('{}spatial/proj'.format(api)).json()  # Call to spatial API, return projs as json\n",
    "#projections \n",
    "# Create a dictionary of projections with projection Name as the keys.\n",
    "projs = {}                                  # Create an empty dictionary\n",
    "for p in projections: projs[p['Name']] = p  # Fill dictionary with `Name` as keys\n",
    "list(projs.keys())                          # Print dictionary keys"
   ]
  },
  {
   "cell_type": "code",
   "execution_count": 68,
   "id": "7b2431e2-4d28-407a-a8e6-d8e013ba844a",
   "metadata": {},
   "outputs": [],
   "source": [
    "# Compile a JSON\n",
    "task_name = 'modis_basin_07340300' # User-defined name of the task: 'NPS Vegetation Area' used in example\n",
    "task_type = ['point','area']        # Type of task, area or point\n",
    "proj = projs['geographic']['Name']  # Set output projection \n",
    "outFormat = ['netcdf4']  # Set output file format type\n",
    "startDate = '01-01-2018'            # Start of the date range for which to extract data: MM-DD-YYYY\n",
    "endDate = '12-31-2018'              # End of the date range for which to extract data: MM-DD-YYYY\n",
    "recurring = False                   # Specify True for a recurring date range\n",
    "#yearRange = [2000,2016]            # if recurring = True, set yearRange, change start/end date to MM-DD\n",
    "\n",
    "# create JSON\n",
    "task = {\n",
    "    'task_type': task_type[1],\n",
    "    'task_name': task_name,\n",
    "    'params': {\n",
    "         'dates': [\n",
    "         {\n",
    "             'startDate': startDate,\n",
    "             'endDate': endDate\n",
    "         }],\n",
    "         'layers': prodLayer,\n",
    "         'output': {\n",
    "                 'format': {\n",
    "                         'type': outFormat[0]}, \n",
    "                         'projection': proj},\n",
    "         'geo': aoi,\n",
    "    }\n",
    "}"
   ]
  },
  {
   "cell_type": "code",
   "execution_count": 69,
   "id": "1353c458-5dcc-4e43-ae73-1a108727cd18",
   "metadata": {},
   "outputs": [
    {
     "data": {
      "text/plain": [
       "{'task_id': 'f062692a-0a46-4c10-b51e-4abf33dd77fc', 'status': 'pending'}"
      ]
     },
     "execution_count": 69,
     "metadata": {},
     "output_type": "execute_result"
    }
   ],
   "source": [
    "# Submit a Task Request\n",
    "task_response = r.post('{}task'.format(api), json=task, headers=head).json()  # Post json to the API task service, return response as json\n",
    "task_response  "
   ]
  },
  {
   "cell_type": "code",
   "execution_count": 70,
   "id": "886339f4-5054-44a7-a20b-5ad5073716dd",
   "metadata": {},
   "outputs": [
    {
     "data": {
      "text/plain": [
       "[{'tier': 2,\n",
       "  'error': None,\n",
       "  'params': {'dates': [{'endDate': '12-31-2018', 'startDate': '01-01-2018'}],\n",
       "   'layers': [{'layer': 'ET_500m', 'product': 'MYD16A2.061'},\n",
       "    {'layer': 'PET_500m', 'product': 'MYD16A2.061'},\n",
       "    {'layer': 'LAI_500m', 'product': 'MCD15A2H.061'},\n",
       "    {'layer': 'GPP_500m', 'product': 'MYD17A2H.061'}],\n",
       "   'output': {'format': {'type': 'netcdf4'}, 'projection': 'geographic'}},\n",
       "  'status': 'queued',\n",
       "  'created': '2023-04-02T14:09:55.500332',\n",
       "  'task_id': 'f062692a-0a46-4c10-b51e-4abf33dd77fc',\n",
       "  'updated': '2023-04-02T14:09:55.587684',\n",
       "  'user_id': 'jitendra.ornl@gmail.com',\n",
       "  'estimate': {'request_size': 1170116.863820423, 'request_memory': 1},\n",
       "  'retry_at': None,\n",
       "  'has_swath': False,\n",
       "  'task_name': 'modis_basin_07340300',\n",
       "  'task_type': 'area',\n",
       "  'api_version': 'v1',\n",
       "  'svc_version': '3.26',\n",
       "  'web_version': None,\n",
       "  'has_nsidc_daac': False,\n",
       "  'expires_on': '2023-05-02T14:09:55.587684'},\n",
       " {'tier': 2,\n",
       "  'error': None,\n",
       "  'params': {'dates': [{'endDate': '01-31-2018', 'startDate': '01-01-2018'}],\n",
       "   'layers': [{'layer': 'ET_500m', 'product': 'MYD16A2.061'},\n",
       "    {'layer': 'PET_500m', 'product': 'MYD16A2.061'},\n",
       "    {'layer': 'LAI_500m', 'product': 'MCD15A2H.061'},\n",
       "    {'layer': 'GPP_500m', 'product': 'MYD17A2H.061'}],\n",
       "   'output': {'format': {'type': 'netcdf4'}, 'projection': 'geographic'}},\n",
       "  'status': 'done',\n",
       "  'crashed': False,\n",
       "  'created': '2023-04-02T03:18:42.815866',\n",
       "  'task_id': '56d7d841-a043-4ce9-9263-f691e7c61d7f',\n",
       "  'updated': '2023-04-02T03:24:30.261501',\n",
       "  'user_id': 'jitendra.ornl@gmail.com',\n",
       "  'attempts': 1,\n",
       "  'estimate': {'request_size': 78007.79092136153, 'request_memory': 1},\n",
       "  'retry_at': None,\n",
       "  'completed': '2023-04-02T03:24:30.251382',\n",
       "  'has_swath': False,\n",
       "  'task_name': 'modis_basin_07340300',\n",
       "  'task_type': 'area',\n",
       "  'api_version': 'v1',\n",
       "  'svc_version': '3.26',\n",
       "  'web_version': None,\n",
       "  'has_nsidc_daac': False,\n",
       "  'expires_on': '2023-05-02T03:24:30.261501'}]"
      ]
     },
     "execution_count": 70,
     "metadata": {},
     "output_type": "execute_result"
    }
   ],
   "source": [
    "# Retrieve Task Status\n",
    "params = {'limit': 2, 'pretty': True} # Limit API response to 2 most recent entries, return as pretty json\n",
    "tasks_response = r.get('{}task'.format(api), params=params, headers=head).json() # Query task service, setting params and header \n",
    "tasks_response     \n",
    "\n"
   ]
  },
  {
   "cell_type": "code",
   "execution_count": 63,
   "id": "48330c14-06ba-4b3d-a530-191d4ee50fc0",
   "metadata": {},
   "outputs": [
    {
     "data": {
      "text/plain": [
       "{'tier': 2,\n",
       " 'error': None,\n",
       " 'params': {'geo': {'type': 'FeatureCollection',\n",
       "   'features': [{'id': '0',\n",
       "     'type': 'Feature',\n",
       "     'geometry': {'type': 'Polygon',\n",
       "      'coordinates': [[[-94.25120746438971, 34.34012232268112],\n",
       "        [-94.2517712566365, 34.34199470939717],\n",
       "        [-94.24818658460966, 34.3483669878912],\n",
       "        [-94.25057553647237, 34.35038422822961],\n",
       "        [-94.25118799228248, 34.35272067659477],\n",
       "        [-94.24945702410888, 34.35488561581433],\n",
       "        [-94.25162732590202, 34.355333364270344],\n",
       "        [-94.2507414710471, 34.358970240816475],\n",
       "        [-94.25284218124028, 34.360802767091684],\n",
       "        [-94.2508437620839, 34.36400150261035],\n",
       "        [-94.2525347716894, 34.374790702790456],\n",
       "        [-94.25585494011908, 34.37462244692883],\n",
       "        [-94.26934211461891, 34.38276122464855],\n",
       "        [-94.26902989423795, 34.38535418407524],\n",
       "        [-94.27155363514419, 34.38577953074313],\n",
       "        [-94.27103129087473, 34.38800457158036],\n",
       "        [-94.27334050660272, 34.38883760873019],\n",
       "        [-94.2730012644213, 34.39172576556621],\n",
       "        [-94.27449433354528, 34.39310014512125],\n",
       "        [-94.27156922504284, 34.39741329776794],\n",
       "        [-94.2693713536449, 34.39768255315122],\n",
       "        [-94.26992740396862, 34.39970973818669],\n",
       "        [-94.27324675170622, 34.40100850548096],\n",
       "        [-94.27846576526781, 34.40656595856987],\n",
       "        [-94.283381389183, 34.40798443983153],\n",
       "        [-94.28188013528522, 34.41009021606678],\n",
       "        [-94.2857455825435, 34.415893543009695],\n",
       "        [-94.30079388656199, 34.41977019775017],\n",
       "        [-94.29941027241405, 34.42238312079613],\n",
       "        [-94.30073417831696, 34.42624517494938],\n",
       "        [-94.29725761932212, 34.42828873412357],\n",
       "        [-94.30066606429847, 34.42970325784366],\n",
       "        [-94.30473494544543, 34.43935981471436],\n",
       "        [-94.30298141492082, 34.441478887833426],\n",
       "        [-94.29589358547636, 34.44098762543826],\n",
       "        [-94.29283778863307, 34.44525304886931],\n",
       "        [-94.27196586879256, 34.44106502307713],\n",
       "        [-94.27057810539583, 34.443342076485294],\n",
       "        [-94.27285418741405, 34.448964773433815],\n",
       "        [-94.27186734887145, 34.45320576674792],\n",
       "        [-94.26975397744611, 34.45526238542943],\n",
       "        [-94.26937355742768, 34.46055002148331],\n",
       "        [-94.26604158655964, 34.46326557935316],\n",
       "        [-94.26665700412627, 34.465415090638636],\n",
       "        [-94.2733700419675, 34.46746849224176],\n",
       "        [-94.2741346244768, 34.469167354020044],\n",
       "        [-94.27113148459513, 34.470969713795235],\n",
       "        [-94.26874547353563, 34.47518982322415],\n",
       "        [-94.27333634246423, 34.477748312406746],\n",
       "        [-94.27318925001795, 34.48088429064737],\n",
       "        [-94.27167245986168, 34.48372534966896],\n",
       "        [-94.26893300490514, 34.48256529345528],\n",
       "        [-94.26351670209539, 34.48446155884532],\n",
       "        [-94.25867822566124, 34.490508453172005],\n",
       "        [-94.23620471729531, 34.49225023468107],\n",
       "        [-94.22530982658812, 34.48088233625189],\n",
       "        [-94.21878465229165, 34.47994641523989],\n",
       "        [-94.21099107166879, 34.48025265696376],\n",
       "        [-94.20353485645892, 34.483089642319605],\n",
       "        [-94.19182585942552, 34.48349354369472],\n",
       "        [-94.18845416167603, 34.4863173619899],\n",
       "        [-94.18752377389069, 34.49144515056022],\n",
       "        [-94.18484584760748, 34.493407566143695],\n",
       "        [-94.14095886454177, 34.477859522729055],\n",
       "        [-94.14070322748542, 34.47554316378509],\n",
       "        [-94.13202272511307, 34.47294957375041],\n",
       "        [-94.12583922222136, 34.4685925978654],\n",
       "        [-94.10811215125129, 34.46546147374326],\n",
       "        [-94.0871224828352, 34.45682343418414],\n",
       "        [-94.07248656002099, 34.454678771734365],\n",
       "        [-94.06851394941397, 34.45311195877996],\n",
       "        [-94.06826767638114, 34.450613103334156],\n",
       "        [-94.05674779216274, 34.45029582323221],\n",
       "        [-94.0526666356517, 34.44754423680535],\n",
       "        [-94.0496480890788, 34.44814786238017],\n",
       "        [-94.04365198024178, 34.44579156733785],\n",
       "        [-94.02930428337727, 34.4485121691288],\n",
       "        [-94.02416189940998, 34.44688209872041],\n",
       "        [-94.02062921171088, 34.447572696830115],\n",
       "        [-94.01321964007745, 34.44331654164659],\n",
       "        [-94.00881939125115, 34.44284940116798],\n",
       "        [-94.00951310340984, 34.43446264449579],\n",
       "        [-94.02049253854604, 34.43380058398254],\n",
       "        [-94.02347904283927, 34.42879657206808],\n",
       "        [-94.00938400272881, 34.42667813300046],\n",
       "        [-94.01329243509333, 34.42132528297729],\n",
       "        [-94.01107614858579, 34.41884079336454],\n",
       "        [-94.01296809379326, 34.416931666241716],\n",
       "        [-94.00991485699589, 34.41301348598344],\n",
       "        [-94.01064739526072, 34.41030884083737],\n",
       "        [-94.00829789364249, 34.404922407152824],\n",
       "        [-94.01120483407654, 34.40430955432648],\n",
       "        [-94.0173858473603, 34.407614309435154],\n",
       "        [-94.02978743598878, 34.41009950481748],\n",
       "        [-94.0358638919364, 34.407537381096745],\n",
       "        [-94.03695748342457, 34.40241081686749],\n",
       "        [-94.03359476210893, 34.39932242927334],\n",
       "        [-94.03319391517385, 34.396889900421776],\n",
       "        [-94.02355802323748, 34.39404941494955],\n",
       "        [-94.023429625711, 34.39203029606408],\n",
       "        [-94.02761208187222, 34.39195863574273],\n",
       "        [-94.02864984100768, 34.38904094486376],\n",
       "        [-94.04558123897873, 34.38653782679398],\n",
       "        [-94.05498227884353, 34.38808108470834],\n",
       "        [-94.06237452528796, 34.38591691383681],\n",
       "        [-94.11257486442, 34.39303738930768],\n",
       "        [-94.13779381233681, 34.393713811175985],\n",
       "        [-94.13872788730121, 34.39098224544215],\n",
       "        [-94.14815956514803, 34.39112001862639],\n",
       "        [-94.14774500247957, 34.38696222311916],\n",
       "        [-94.15460291975077, 34.38499968537818],\n",
       "        [-94.17482754670829, 34.38752400701134],\n",
       "        [-94.17444289321554, 34.38367287839533],\n",
       "        [-94.17150401351687, 34.3826812161495],\n",
       "        [-94.17172980372817, 34.3794245844147],\n",
       "        [-94.17579612465137, 34.37463895796359],\n",
       "        [-94.17891037489672, 34.373949707086695],\n",
       "        [-94.18016803289524, 34.37016405029846],\n",
       "        [-94.18477261747383, 34.370542033533944],\n",
       "        [-94.19200750860342, 34.36850140152364],\n",
       "        [-94.19398497833656, 34.36984246538259],\n",
       "        [-94.19459121752894, 34.36653085579302],\n",
       "        [-94.19065472325428, 34.365159365586145],\n",
       "        [-94.19116460815766, 34.36378143033875],\n",
       "        [-94.20348800951852, 34.36279605335323],\n",
       "        [-94.20192491066211, 34.361197366628666],\n",
       "        [-94.20460096195723, 34.358544517828356],\n",
       "        [-94.2144686594194, 34.354073241744516],\n",
       "        [-94.21139851307314, 34.35345582530426],\n",
       "        [-94.21219114535901, 34.35026434835006],\n",
       "        [-94.21547455953609, 34.35064809917118],\n",
       "        [-94.22267552123863, 34.34727995781034],\n",
       "        [-94.22132457398614, 34.34303248548227],\n",
       "        [-94.21749589489657, 34.340688557132864],\n",
       "        [-94.21740361540415, 34.33799922497827],\n",
       "        [-94.23759973151282, 34.34041395663479],\n",
       "        [-94.24329557686464, 34.34038475533406],\n",
       "        [-94.24654512687371, 34.3385048421224],\n",
       "        [-94.25120746438971, 34.34012232268112]]]},\n",
       "     'properties': {'identifier': '07340300'}}]},\n",
       "  'dates': [{'endDate': '01-31-2018', 'startDate': '01-01-2018'}],\n",
       "  'layers': [{'layer': 'ET_500m', 'product': 'MYD16A2.061'},\n",
       "   {'layer': 'PET_500m', 'product': 'MYD16A2.061'},\n",
       "   {'layer': 'LAI_500m', 'product': 'MCD15A2H.061'},\n",
       "   {'layer': 'GPP_500m', 'product': 'MYD17A2H.061'}],\n",
       "  'output': {'format': {'type': 'netcdf4'}, 'projection': 'geographic'}},\n",
       " 'status': 'done',\n",
       " 'crashed': False,\n",
       " 'created': '2023-04-02T03:18:42.815866',\n",
       " 'task_id': '56d7d841-a043-4ce9-9263-f691e7c61d7f',\n",
       " 'updated': '2023-04-02T03:24:30.261501',\n",
       " 'user_id': 'jitendra.ornl@gmail.com',\n",
       " 'attempts': 1,\n",
       " 'estimate': {'request_size': 78007.79092136153, 'request_memory': 1},\n",
       " 'retry_at': None,\n",
       " 'completed': '2023-04-02T03:24:30.251382',\n",
       " 'has_swath': False,\n",
       " 'task_name': 'modis_basin_07340300',\n",
       " 'task_type': 'area',\n",
       " 'api_version': 'v1',\n",
       " 'svc_version': '3.26',\n",
       " 'web_version': None,\n",
       " 'has_nsidc_daac': False,\n",
       " 'expires_on': '2023-05-02T03:24:30.261501'}"
      ]
     },
     "execution_count": 63,
     "metadata": {},
     "output_type": "execute_result"
    }
   ],
   "source": [
    "# take the task id returned from the task_response that was generated when submitting your request, and use the AρρEEARS API status service to check the status of your request.\n",
    "task_id = task_response['task_id']                                               # Set task id from request submission\n",
    "status_response = r.get('{}status/{}'.format(api, task_id), headers=head).json() # Call status service with specific task ID & user credentials\n",
    "status_response          "
   ]
  },
  {
   "cell_type": "code",
   "execution_count": 71,
   "id": "1d94459a-e0ed-455c-acd1-22e0bbe62007",
   "metadata": {},
   "outputs": [
    {
     "name": "stdout",
     "output_type": "stream",
     "text": [
      "done\n"
     ]
    }
   ],
   "source": [
    "# call the task service for your request every 20 seconds to check the status of your request.\n",
    "# Ping API until request is complete, then continue to Section 4\n",
    "starttime = time.time()\n",
    "while r.get('{}task/{}'.format(api, task_id), headers=head).json()['status'] != 'done':\n",
    "    print(r.get('{}task/{}'.format(api, task_id), headers=head).json()['status'])\n",
    "    time.sleep(60.0 - ((time.time() - starttime) % 60.0))\n",
    "print(r.get('{}task/{}'.format(api, task_id), headers=head).json()['status'])"
   ]
  },
  {
   "cell_type": "code",
   "execution_count": 72,
   "id": "395585d0-5452-4c33-b1d5-f33ac03a1926",
   "metadata": {},
   "outputs": [
    {
     "name": "stdout",
     "output_type": "stream",
     "text": [
      "Downloaded files can be found at: /home/jbk/projects/climate/interface/src/hydrology_codes/modis_basin_07340300\n"
     ]
    }
   ],
   "source": [
    "# Download a Request\n",
    "destDir = os.path.join(inDir, task_name)                # Set up output directory using input directory and task name\n",
    "if not os.path.exists(destDir):os.makedirs(destDir)     # Create the output directory\n",
    "\n",
    "# Explore Files in Request Output \n",
    "# The bundle API provides information about completed tasks. For any completed task, a bundle can be queried to return the files contained as a part of the task request. Below, call the bundle API and return all of the output files.\n",
    "bundle = r.get('{}bundle/{}'.format(api,task_id), headers=head).json()  # Call API and return bundle contents for the task_id as json\n",
    "bundle\n",
    "\n",
    "# Download Files in a Request (Automation)\n",
    "# use the contents of the bundle to select the file name and id and store as a dictionary.\n",
    "files = {}                                                       # Create empty dictionary\n",
    "for f in bundle['files']: files[f['file_id']] = f['file_name']   # Fill dictionary with file_id as keys and file_name as values\n",
    "files \n",
    "\n",
    "# Use the files dictionary and a for loop to automate downloading all of the output files into the output directory.\n",
    "for f in files:\n",
    "    dl = r.get('{}bundle/{}/{}'.format(api, task_id, f), headers=head, stream=True, allow_redirects = 'True')                                # Get a stream to the bundle file\n",
    "    if files[f].endswith('.tif'):\n",
    "        filename = files[f].split('/')[1]\n",
    "    else:\n",
    "        filename = files[f] \n",
    "    filepath = os.path.join(destDir, filename)                                                       # Create output file path\n",
    "    with open(filepath, 'wb') as f:                                                                  # Write file to dest dir\n",
    "        for data in dl.iter_content(chunk_size=8192): f.write(data) \n",
    "print('Downloaded files can be found at: {}'.format(destDir))\n"
   ]
  },
  {
   "cell_type": "code",
   "execution_count": 73,
   "id": "b8855fec-701f-4cbd-b0d7-91943db71a84",
   "metadata": {},
   "outputs": [
    {
     "data": {
      "text/plain": [
       "{'files': [{'sha256': '2b1048abce3a6eed0ba4b8f63a1d8bd38d43e4e03598d921ab10e7fbae394a83',\n",
       "   'file_id': 'd2223a2c-d057-4328-ac4d-0117203c53b0',\n",
       "   'file_name': 'modis-basin-07340300-request.json',\n",
       "   'file_size': 6774,\n",
       "   'file_type': 'json',\n",
       "   's3_url': 's3://appeears-output/56d7d841-a043-4ce9-9263-f691e7c61d7f/modis-basin-07340300-request.json'},\n",
       "  {'sha256': 'ac81e9135a2465e532192121ce9722a3b29cffe7955ff5faf11b7a2585b72290',\n",
       "   'file_id': '4ebe17b6-9c4d-449e-8323-016d90fa05f7',\n",
       "   'file_name': 'modis-basin-07340300-MCD15A2H-061-metadata.xml',\n",
       "   'file_size': 21090,\n",
       "   'file_type': 'xml',\n",
       "   's3_url': 's3://appeears-output/56d7d841-a043-4ce9-9263-f691e7c61d7f/modis-basin-07340300-MCD15A2H-061-metadata.xml'},\n",
       "  {'sha256': 'ebe0dad86f6aaedd2ec48bbc3f85306eac83224959bbbbc6fae47b5c5754de49',\n",
       "   'file_id': 'daf2774e-58ba-4a99-825f-9dc63bd511f6',\n",
       "   'file_name': 'modis-basin-07340300-MYD16A2-061-metadata.xml',\n",
       "   'file_size': 21022,\n",
       "   'file_type': 'xml',\n",
       "   's3_url': 's3://appeears-output/56d7d841-a043-4ce9-9263-f691e7c61d7f/modis-basin-07340300-MYD16A2-061-metadata.xml'},\n",
       "  {'sha256': '31782068dfb64e7f290d6eca7cbd35be972f0dcdddafcdea51e0d654267bcaa4',\n",
       "   'file_id': '45c1c8b4-d29e-4da8-8b29-9229fe7735c9',\n",
       "   'file_name': 'modis-basin-07340300-MYD17A2H-061-metadata.xml',\n",
       "   'file_size': 21035,\n",
       "   'file_type': 'xml',\n",
       "   's3_url': 's3://appeears-output/56d7d841-a043-4ce9-9263-f691e7c61d7f/modis-basin-07340300-MYD17A2H-061-metadata.xml'},\n",
       "  {'sha256': 'ac1006dbe20a39b4a9a084fb7b78b90e0ea0285e4ed0c91273a433afee1af4bf',\n",
       "   'file_id': '92336880-564f-43a4-b992-f0f192bc50ba',\n",
       "   'file_name': 'README.md',\n",
       "   'file_size': 25515,\n",
       "   'file_type': 'txt',\n",
       "   's3_url': 's3://appeears-output/56d7d841-a043-4ce9-9263-f691e7c61d7f/README.md'}],\n",
       " 'created': '2023-04-02T03:21:17.358906',\n",
       " 'task_id': '56d7d841-a043-4ce9-9263-f691e7c61d7f',\n",
       " 'updated': '2023-04-02T03:24:25.497452',\n",
       " 'bundle_type': 'area'}"
      ]
     },
     "execution_count": 73,
     "metadata": {},
     "output_type": "execute_result"
    }
   ],
   "source": [
    "bundle"
   ]
  },
  {
   "cell_type": "code",
   "execution_count": 76,
   "id": "8a7fefef-fb4b-41f3-b261-931983492125",
   "metadata": {},
   "outputs": [],
   "source": [
    "aoi_1 = gpd.read_file(AOIFILE) # Read in GeoJSON or Shapefile as dataframe using geopandas\n"
   ]
  },
  {
   "cell_type": "code",
   "execution_count": 77,
   "id": "3dd9aaea-1799-40f5-b8be-b89efe376957",
   "metadata": {},
   "outputs": [
    {
     "name": "stderr",
     "output_type": "stream",
     "text": [
      "/tmp/ipykernel_569688/2240628493.py:1: UserWarning: Geometry is in a geographic CRS. Results from 'area' are likely incorrect. Use 'GeoSeries.to_crs()' to re-project geometries to a projected CRS before this operation.\n",
      "\n",
      "  aoi_1.area\n"
     ]
    },
    {
     "data": {
      "text/plain": [
       "0    0.024761\n",
       "dtype: float64"
      ]
     },
     "execution_count": 77,
     "metadata": {},
     "output_type": "execute_result"
    }
   ],
   "source": [
    "aoi_1.area"
   ]
  },
  {
   "cell_type": "code",
   "execution_count": 94,
   "id": "f6c1c043-a083-4e80-9982-eb2aa7fa7069",
   "metadata": {},
   "outputs": [
    {
     "data": {
      "text/plain": [
       "<Geographic 2D CRS: EPSG:4326>\n",
       "Name: WGS 84\n",
       "Axis Info [ellipsoidal]:\n",
       "- Lat[north]: Geodetic latitude (degree)\n",
       "- Lon[east]: Geodetic longitude (degree)\n",
       "Area of Use:\n",
       "- name: World.\n",
       "- bounds: (-180.0, -90.0, 180.0, 90.0)\n",
       "Datum: World Geodetic System 1984 ensemble\n",
       "- Ellipsoid: WGS 84\n",
       "- Prime Meridian: Greenwich"
      ]
     },
     "execution_count": 94,
     "metadata": {},
     "output_type": "execute_result"
    }
   ],
   "source": [
    "aoi_1.crs"
   ]
  },
  {
   "cell_type": "code",
   "execution_count": 92,
   "id": "f2d41244-c3ab-4efc-8ae1-3de8c2b3fcbc",
   "metadata": {},
   "outputs": [
    {
     "data": {
      "text/plain": [
       "0    37.028946\n",
       "dtype: float64"
      ]
     },
     "execution_count": 92,
     "metadata": {},
     "output_type": "execute_result"
    }
   ],
   "source": [
    "aoi_1.to_crs(3395).area/10e6"
   ]
  },
  {
   "cell_type": "code",
   "execution_count": null,
   "id": "8d732bcf-bc2c-4713-8850-a0f06d187864",
   "metadata": {},
   "outputs": [],
   "source": []
  }
 ],
 "metadata": {
  "kernelspec": {
   "display_name": "ilamb-dev",
   "language": "python",
   "name": "ilamb-dev"
  },
  "language_info": {
   "codemirror_mode": {
    "name": "ipython",
    "version": 3
   },
   "file_extension": ".py",
   "mimetype": "text/x-python",
   "name": "python",
   "nbconvert_exporter": "python",
   "pygments_lexer": "ipython3",
   "version": "3.10.6"
  }
 },
 "nbformat": 4,
 "nbformat_minor": 5
}
