{
 "cells": [
  {
   "cell_type": "code",
   "execution_count": 1,
   "id": "761929ee",
   "metadata": {},
   "outputs": [],
   "source": [
    "# Query USGS server and get basic info for USGS site\n",
    "def get_info_USGSsite(sitecode):\n",
    "    from pygeohydro import NWIS\n",
    " \n",
    "    query = {\n",
    "        \"site\": \"%s\"%(sitecode)\n",
    "    }\n",
    "    info = NWIS().get_info(query)\n",
    "    return info\n",
    "\n",
    "# Query USGS server and get upstream contributing area for USGS site\n",
    "def get_UpstreamBasin_USGSsite(sitecode):\n",
    "    from pynhd import NLDI\n",
    "    \n",
    "    basin = NLDI().get_basins([sitecode])\n",
    "    basin = basin.to_crs('EPSG:4326')\n",
    "    return basin\n",
    "\n"
   ]
  },
  {
   "cell_type": "code",
   "execution_count": 2,
   "id": "032eaf8e",
   "metadata": {},
   "outputs": [],
   "source": [
    "import geopandas as gpd\n",
    "import matplotlib.pyplot as plt\n",
    "\n",
    "# CossatotRiver.shp  Flatbrook.shp  LittleTennessee.shp  MayoRiver.shp  NeversinkHeadwaters.shp  PantherCreek.shp  TaylorUpstream.shp\n",
    "# Read shapefiles\n",
    "CossatotRiver = gpd.read_file('CossatotRiver.shp')\n",
    "Flatbrook = gpd.read_file('Flatbrook.shp')\n",
    "LittleTennessee = gpd.read_file('LittleTennessee.shp')\n",
    "MayoRiver = gpd.read_file('MayoRiver.shp')\n",
    "NeversinkHeadwaters = gpd.read_file('NeversinkHeadwaters.shp')\n",
    "PantherCreek = gpd.read_file('PantherCreek.shp')\n",
    "TaylorUpstream = gpd.read_file('TaylorUpstream.shp')\n",
    "\n",
    "# Bring the shapefiles into common cordinate system\n",
    "CossatotRiver = CossatotRiver.to_crs('EPSG:4326')\n",
    "Flatbrook = Flatbrook.to_crs('EPSG:4326')\n",
    "LittleTennessee = LittleTennessee.to_crs('EPSG:4326')\n",
    "MayoRiver = MayoRiver.to_crs('EPSG:4326')\n",
    "NeversinkHeadwaters = NeversinkHeadwaters.to_crs('EPSG:4326')\n",
    "PantherCreek = PantherCreek.to_crs('EPSG:4326')\n",
    "TaylorUpstream = TaylorUpstream.to_crs('EPSG:4326')\n",
    "\n",
    "#CossatotRiver\n",
    "#Flatbrook\n",
    "#LittleTennessee\n",
    "#MayoRiver\n",
    "#NeversinkHeadwaters \n",
    "#PantherCreek\n",
    "#TaylorUpstream\n",
    "\n",
    "#Site area \tState (s) \tArea sq km \tUSGS site code\n",
    "#Little Tennessee \tNC,VA \t362.6 \t  \"03500000\"\n",
    "#Flatbrook \tNJ \t165.76 \t  \"1440000\"\n",
    "#Taylor upstream \tCO \t331.52 \t  \"09107000\"\n",
    "#Panther creek \tAL \t227.14     \t  \"02369800\"\n",
    "#Mayo river \tVA \t218.34 \t  \"02069700\"\n",
    "#Neversink River \tNY \t160.6 \t  \"01435000\"\n",
    "#Cossatot River \tAR \t230.63       \t  \"07340300\"\n",
    "\n",
    "# Get info about each of the USGS sites\n",
    "CossatotRiver_info = get_info_USGSsite(\"07340300\")\n",
    "Flatbrook_info = get_info_USGSsite(\"01440000\")\n",
    "LittleTennessee_info = get_info_USGSsite(\"03500000\")\n",
    "MayoRiver_info = get_info_USGSsite(\"02069700\")\n",
    "NeversinkHeadwaters_info = get_info_USGSsite(\"01435000\") \n",
    "PantherCreek_info = get_info_USGSsite(\"02369800\")\n",
    "TaylorUpstream_info = get_info_USGSsite(\"09107000\")\n",
    "\n",
    "# Add station_nm and site no/code to all watersheds -- because not all of the shapefiles have them already\n",
    "CossatotRiver['station_nm'] = CossatotRiver_info['station_nm']\n",
    "CossatotRiver['usgs_code'] = CossatotRiver_info['site_no']\n",
    "\n",
    "Flatbrook['station_nm'] = Flatbrook_info['station_nm']\n",
    "Flatbrook['usgs_code'] = Flatbrook_info['site_no']\n",
    "\n",
    "LittleTennessee['station_nm'] = LittleTennessee_info['station_nm']\n",
    "LittleTennessee['usgs_code'] = LittleTennessee_info['site_no']\n",
    "\n",
    "MayoRiver['station_nm'] = MayoRiver_info['station_nm']\n",
    "MayoRiver['usgs_code'] = MayoRiver_info['site_no']\n",
    "\n",
    "NeversinkHeadwaters['station_nm'] = NeversinkHeadwaters_info['station_nm']\n",
    "NeversinkHeadwaters['usgs_code'] = NeversinkHeadwaters_info['site_no']\n",
    "\n",
    "PantherCreek['station_nm'] = PantherCreek_info['station_nm']\n",
    "PantherCreek['usgs_code'] = PantherCreek_info['site_no']\n",
    "\n",
    "TaylorUpstream['station_nm'] = TaylorUpstream_info['station_nm']\n",
    "TaylorUpstream['usgs_code'] = TaylorUpstream_info['site_no']\n",
    "\n",
    "\n",
    "# Merge/Combine multiple shapefiles into one\n",
    "ats_watersheds = gpd.pd.concat([CossatotRiver, Flatbrook, LittleTennessee, MayoRiver, NeversinkHeadwaters, PantherCreek, TaylorUpstream])\n",
    " \n",
    "#Export merged geodataframe into shapefile\n",
    "ats_watersheds.to_file(\"ats_watersheds.shp\")"
   ]
  },
  {
   "cell_type": "code",
   "execution_count": 3,
   "id": "64a4abeb",
   "metadata": {},
   "outputs": [
    {
     "name": "stdout",
     "output_type": "stream",
     "text": [
      "0         Cossatot River Near Vandervoort, AR\n",
      "0          Flat Brook Near Flatbrookville, NJ\n",
      "0    Little Tennessee River Near Prentiss, NC\n",
      "0       South Mayo River Near Nettleridge, VA\n",
      "0         Neversink River Near Claryville, NY\n",
      "0           Blackwater River Near Bradley, AL\n",
      "0             Taylor River At Taylor Park, CO\n",
      "Name: station_nm, dtype: object\n"
     ]
    }
   ],
   "source": [
    "print(ats_watersheds.station_nm)\n",
    "#CossatotRiver_info = get_info_USGSsite(\"07340300\")\n",
    "#CossatotRiver['station_nm'] = CossatotRiver_info['site_no']\n",
    "#CossatotRiver['site_no'] = CossatotRiver_info.site_no\n",
    "\n",
    "#CossatotRiver"
   ]
  },
  {
   "cell_type": "code",
   "execution_count": null,
   "id": "edfbe8b0",
   "metadata": {},
   "outputs": [],
   "source": []
  },
  {
   "cell_type": "code",
   "execution_count": 4,
   "id": "34f5f188",
   "metadata": {},
   "outputs": [
    {
     "data": {
      "text/html": [
       "<div>\n",
       "<style scoped>\n",
       "    .dataframe tbody tr th:only-of-type {\n",
       "        vertical-align: middle;\n",
       "    }\n",
       "\n",
       "    .dataframe tbody tr th {\n",
       "        vertical-align: top;\n",
       "    }\n",
       "\n",
       "    .dataframe thead th {\n",
       "        text-align: right;\n",
       "    }\n",
       "</style>\n",
       "<table border=\"1\" class=\"dataframe\">\n",
       "  <thead>\n",
       "    <tr style=\"text-align: right;\">\n",
       "      <th></th>\n",
       "      <th>OBJECTID</th>\n",
       "      <th>tnmid</th>\n",
       "      <th>metasource</th>\n",
       "      <th>sourcedata</th>\n",
       "      <th>sourceorig</th>\n",
       "      <th>sourcefeat</th>\n",
       "      <th>loaddate</th>\n",
       "      <th>noncontrib</th>\n",
       "      <th>noncontr_1</th>\n",
       "      <th>areasqkm</th>\n",
       "      <th>...</th>\n",
       "      <th>states</th>\n",
       "      <th>huc12</th>\n",
       "      <th>hutype</th>\n",
       "      <th>humod</th>\n",
       "      <th>tohuc</th>\n",
       "      <th>Shape_Leng</th>\n",
       "      <th>Shape_Area</th>\n",
       "      <th>geometry</th>\n",
       "      <th>station_nm</th>\n",
       "      <th>usgs_code</th>\n",
       "    </tr>\n",
       "  </thead>\n",
       "  <tbody>\n",
       "    <tr>\n",
       "      <th>0</th>\n",
       "      <td>27316.0</td>\n",
       "      <td>{E280A738-4AAA-4F24-840D-D342DE6B816E}</td>\n",
       "      <td>{86C7BAFF-1268-48BE-A1E8-834E5348D387}</td>\n",
       "      <td>1</td>\n",
       "      <td>None</td>\n",
       "      <td>None</td>\n",
       "      <td>2017/12/14 10:58:12.000</td>\n",
       "      <td>0.0</td>\n",
       "      <td>0.0</td>\n",
       "      <td>90.15</td>\n",
       "      <td>...</td>\n",
       "      <td>AR</td>\n",
       "      <td>111401090401</td>\n",
       "      <td>S</td>\n",
       "      <td>NM</td>\n",
       "      <td>111401090403</td>\n",
       "      <td>0.566643</td>\n",
       "      <td>0.008843</td>\n",
       "      <td>POLYGON ((-94.02331 34.39206, -94.02351 34.392...</td>\n",
       "      <td>Cossatot River Near Vandervoort, AR</td>\n",
       "      <td>07340300</td>\n",
       "    </tr>\n",
       "  </tbody>\n",
       "</table>\n",
       "<p>1 rows × 23 columns</p>\n",
       "</div>"
      ],
      "text/plain": [
       "   OBJECTID                                   tnmid  \\\n",
       "0   27316.0  {E280A738-4AAA-4F24-840D-D342DE6B816E}   \n",
       "\n",
       "                               metasource sourcedata sourceorig sourcefeat  \\\n",
       "0  {86C7BAFF-1268-48BE-A1E8-834E5348D387}          1       None       None   \n",
       "\n",
       "                  loaddate  noncontrib  noncontr_1  areasqkm  ...  states  \\\n",
       "0  2017/12/14 10:58:12.000         0.0         0.0     90.15  ...      AR   \n",
       "\n",
       "          huc12 hutype humod         tohuc Shape_Leng Shape_Area  \\\n",
       "0  111401090401      S    NM  111401090403   0.566643   0.008843   \n",
       "\n",
       "                                            geometry  \\\n",
       "0  POLYGON ((-94.02331 34.39206, -94.02351 34.392...   \n",
       "\n",
       "                            station_nm  usgs_code  \n",
       "0  Cossatot River Near Vandervoort, AR   07340300  \n",
       "\n",
       "[1 rows x 23 columns]"
      ]
     },
     "execution_count": 4,
     "metadata": {},
     "output_type": "execute_result"
    }
   ],
   "source": [
    "#Flatbrook.columns\n",
    "LittleTennessee\n",
    "CossatotRiver"
   ]
  },
  {
   "cell_type": "code",
   "execution_count": 5,
   "id": "d7022dd4",
   "metadata": {},
   "outputs": [
    {
     "data": {
      "text/plain": [
       "Index(['OBJECTID', 'tnmid', 'metasource', 'sourcedata', 'sourceorig',\n",
       "       'sourcefeat', 'loaddate', 'noncontrib', 'noncontr_1', 'areasqkm',\n",
       "       'areaacres', 'referenceg', 'name', 'states', 'huc12', 'hutype', 'humod',\n",
       "       'tohuc', 'Shape_Leng', 'Shape_Area', 'geometry', 'station_nm',\n",
       "       'usgs_code', 'hru_id', 'ann_P', 'lon_cen', 'lat_cen', 'AREA',\n",
       "       'elev_mean', 'ave_T', 'july_T', 'Perimeter', 'Name'],\n",
       "      dtype='object')"
      ]
     },
     "execution_count": 5,
     "metadata": {},
     "output_type": "execute_result"
    }
   ],
   "source": [
    "ats_watersheds.columns"
   ]
  },
  {
   "cell_type": "code",
   "execution_count": 6,
   "id": "7ef3476a",
   "metadata": {},
   "outputs": [
    {
     "data": {
      "text/html": [
       "<div>\n",
       "<style scoped>\n",
       "    .dataframe tbody tr th:only-of-type {\n",
       "        vertical-align: middle;\n",
       "    }\n",
       "\n",
       "    .dataframe tbody tr th {\n",
       "        vertical-align: top;\n",
       "    }\n",
       "\n",
       "    .dataframe thead th {\n",
       "        text-align: right;\n",
       "    }\n",
       "</style>\n",
       "<table border=\"1\" class=\"dataframe\">\n",
       "  <thead>\n",
       "    <tr style=\"text-align: right;\">\n",
       "      <th></th>\n",
       "      <th>OBJECTID</th>\n",
       "      <th>tnmid</th>\n",
       "      <th>metasource</th>\n",
       "      <th>sourcedata</th>\n",
       "      <th>sourceorig</th>\n",
       "      <th>sourcefeat</th>\n",
       "      <th>loaddate</th>\n",
       "      <th>noncontrib</th>\n",
       "      <th>noncontr_1</th>\n",
       "      <th>areasqkm</th>\n",
       "      <th>...</th>\n",
       "      <th>hru_id</th>\n",
       "      <th>ann_P</th>\n",
       "      <th>lon_cen</th>\n",
       "      <th>lat_cen</th>\n",
       "      <th>AREA</th>\n",
       "      <th>elev_mean</th>\n",
       "      <th>ave_T</th>\n",
       "      <th>july_T</th>\n",
       "      <th>Perimeter</th>\n",
       "      <th>Name</th>\n",
       "    </tr>\n",
       "  </thead>\n",
       "  <tbody>\n",
       "    <tr>\n",
       "      <th>0</th>\n",
       "      <td>27316.0</td>\n",
       "      <td>{E280A738-4AAA-4F24-840D-D342DE6B816E}</td>\n",
       "      <td>{86C7BAFF-1268-48BE-A1E8-834E5348D387}</td>\n",
       "      <td>1</td>\n",
       "      <td>None</td>\n",
       "      <td>None</td>\n",
       "      <td>2017/12/14 10:58:12.000</td>\n",
       "      <td>0.0</td>\n",
       "      <td>0.0</td>\n",
       "      <td>90.15</td>\n",
       "      <td>...</td>\n",
       "      <td>NaN</td>\n",
       "      <td>NaN</td>\n",
       "      <td>NaN</td>\n",
       "      <td>NaN</td>\n",
       "      <td>NaN</td>\n",
       "      <td>NaN</td>\n",
       "      <td>NaN</td>\n",
       "      <td>NaN</td>\n",
       "      <td>NaN</td>\n",
       "      <td>NaN</td>\n",
       "    </tr>\n",
       "    <tr>\n",
       "      <th>0</th>\n",
       "      <td>NaN</td>\n",
       "      <td>NaN</td>\n",
       "      <td>NaN</td>\n",
       "      <td>NaN</td>\n",
       "      <td>NaN</td>\n",
       "      <td>NaN</td>\n",
       "      <td>NaN</td>\n",
       "      <td>NaN</td>\n",
       "      <td>NaN</td>\n",
       "      <td>NaN</td>\n",
       "      <td>...</td>\n",
       "      <td>1440000.0</td>\n",
       "      <td>0.0</td>\n",
       "      <td>-74.79817</td>\n",
       "      <td>41.21119</td>\n",
       "      <td>1.715668e+08</td>\n",
       "      <td>263.303571</td>\n",
       "      <td>None</td>\n",
       "      <td>None</td>\n",
       "      <td>131868.0</td>\n",
       "      <td>NaN</td>\n",
       "    </tr>\n",
       "    <tr>\n",
       "      <th>0</th>\n",
       "      <td>NaN</td>\n",
       "      <td>NaN</td>\n",
       "      <td>NaN</td>\n",
       "      <td>NaN</td>\n",
       "      <td>NaN</td>\n",
       "      <td>NaN</td>\n",
       "      <td>NaN</td>\n",
       "      <td>NaN</td>\n",
       "      <td>NaN</td>\n",
       "      <td>NaN</td>\n",
       "      <td>...</td>\n",
       "      <td>3500000.0</td>\n",
       "      <td>0.0</td>\n",
       "      <td>-83.38489</td>\n",
       "      <td>35.02575</td>\n",
       "      <td>3.624706e+08</td>\n",
       "      <td>848.230769</td>\n",
       "      <td>None</td>\n",
       "      <td>None</td>\n",
       "      <td>131245.0</td>\n",
       "      <td>NaN</td>\n",
       "    </tr>\n",
       "    <tr>\n",
       "      <th>0</th>\n",
       "      <td>40954.0</td>\n",
       "      <td>{E3420DE1-CC95-4EE1-81D3-7B96402BB64A}</td>\n",
       "      <td>{0080214A-E0C8-4A84-9585-41B6830A1C1E}</td>\n",
       "      <td>1</td>\n",
       "      <td>None</td>\n",
       "      <td>None</td>\n",
       "      <td>2019/05/14 08:10:26.000</td>\n",
       "      <td>0.0</td>\n",
       "      <td>0.0</td>\n",
       "      <td>151.38</td>\n",
       "      <td>...</td>\n",
       "      <td>NaN</td>\n",
       "      <td>NaN</td>\n",
       "      <td>NaN</td>\n",
       "      <td>NaN</td>\n",
       "      <td>NaN</td>\n",
       "      <td>NaN</td>\n",
       "      <td>NaN</td>\n",
       "      <td>NaN</td>\n",
       "      <td>NaN</td>\n",
       "      <td>NaN</td>\n",
       "    </tr>\n",
       "    <tr>\n",
       "      <th>0</th>\n",
       "      <td>NaN</td>\n",
       "      <td>NaN</td>\n",
       "      <td>NaN</td>\n",
       "      <td>NaN</td>\n",
       "      <td>NaN</td>\n",
       "      <td>NaN</td>\n",
       "      <td>NaN</td>\n",
       "      <td>NaN</td>\n",
       "      <td>NaN</td>\n",
       "      <td>NaN</td>\n",
       "      <td>...</td>\n",
       "      <td>NaN</td>\n",
       "      <td>NaN</td>\n",
       "      <td>NaN</td>\n",
       "      <td>NaN</td>\n",
       "      <td>NaN</td>\n",
       "      <td>NaN</td>\n",
       "      <td>NaN</td>\n",
       "      <td>NaN</td>\n",
       "      <td>NaN</td>\n",
       "      <td>NY20211109191829844000</td>\n",
       "    </tr>\n",
       "    <tr>\n",
       "      <th>0</th>\n",
       "      <td>NaN</td>\n",
       "      <td>NaN</td>\n",
       "      <td>NaN</td>\n",
       "      <td>NaN</td>\n",
       "      <td>NaN</td>\n",
       "      <td>NaN</td>\n",
       "      <td>NaN</td>\n",
       "      <td>NaN</td>\n",
       "      <td>NaN</td>\n",
       "      <td>NaN</td>\n",
       "      <td>...</td>\n",
       "      <td>2369800.0</td>\n",
       "      <td>0.0</td>\n",
       "      <td>-86.66848</td>\n",
       "      <td>31.08605</td>\n",
       "      <td>2.311403e+08</td>\n",
       "      <td>79.541850</td>\n",
       "      <td>None</td>\n",
       "      <td>None</td>\n",
       "      <td>111487.0</td>\n",
       "      <td>NaN</td>\n",
       "    </tr>\n",
       "    <tr>\n",
       "      <th>0</th>\n",
       "      <td>27054.0</td>\n",
       "      <td>{21773160-4973-4E00-92C3-DD479AFAE742}</td>\n",
       "      <td>{6A40B4E3-27CB-4306-A791-9EE00248731D}</td>\n",
       "      <td>None</td>\n",
       "      <td>None</td>\n",
       "      <td>None</td>\n",
       "      <td>2017/10/25 09:19:09.000</td>\n",
       "      <td>0.0</td>\n",
       "      <td>0.0</td>\n",
       "      <td>161.34</td>\n",
       "      <td>...</td>\n",
       "      <td>NaN</td>\n",
       "      <td>NaN</td>\n",
       "      <td>NaN</td>\n",
       "      <td>NaN</td>\n",
       "      <td>NaN</td>\n",
       "      <td>NaN</td>\n",
       "      <td>NaN</td>\n",
       "      <td>NaN</td>\n",
       "      <td>NaN</td>\n",
       "      <td>NaN</td>\n",
       "    </tr>\n",
       "  </tbody>\n",
       "</table>\n",
       "<p>7 rows × 33 columns</p>\n",
       "</div>"
      ],
      "text/plain": [
       "   OBJECTID                                   tnmid  \\\n",
       "0   27316.0  {E280A738-4AAA-4F24-840D-D342DE6B816E}   \n",
       "0       NaN                                     NaN   \n",
       "0       NaN                                     NaN   \n",
       "0   40954.0  {E3420DE1-CC95-4EE1-81D3-7B96402BB64A}   \n",
       "0       NaN                                     NaN   \n",
       "0       NaN                                     NaN   \n",
       "0   27054.0  {21773160-4973-4E00-92C3-DD479AFAE742}   \n",
       "\n",
       "                               metasource sourcedata sourceorig sourcefeat  \\\n",
       "0  {86C7BAFF-1268-48BE-A1E8-834E5348D387}          1       None       None   \n",
       "0                                     NaN        NaN        NaN        NaN   \n",
       "0                                     NaN        NaN        NaN        NaN   \n",
       "0  {0080214A-E0C8-4A84-9585-41B6830A1C1E}          1       None       None   \n",
       "0                                     NaN        NaN        NaN        NaN   \n",
       "0                                     NaN        NaN        NaN        NaN   \n",
       "0  {6A40B4E3-27CB-4306-A791-9EE00248731D}       None       None       None   \n",
       "\n",
       "                  loaddate  noncontrib  noncontr_1  areasqkm  ...     hru_id  \\\n",
       "0  2017/12/14 10:58:12.000         0.0         0.0     90.15  ...        NaN   \n",
       "0                      NaN         NaN         NaN       NaN  ...  1440000.0   \n",
       "0                      NaN         NaN         NaN       NaN  ...  3500000.0   \n",
       "0  2019/05/14 08:10:26.000         0.0         0.0    151.38  ...        NaN   \n",
       "0                      NaN         NaN         NaN       NaN  ...        NaN   \n",
       "0                      NaN         NaN         NaN       NaN  ...  2369800.0   \n",
       "0  2017/10/25 09:19:09.000         0.0         0.0    161.34  ...        NaN   \n",
       "\n",
       "  ann_P   lon_cen   lat_cen          AREA   elev_mean ave_T july_T  Perimeter  \\\n",
       "0   NaN       NaN       NaN           NaN         NaN   NaN    NaN        NaN   \n",
       "0   0.0 -74.79817  41.21119  1.715668e+08  263.303571  None   None   131868.0   \n",
       "0   0.0 -83.38489  35.02575  3.624706e+08  848.230769  None   None   131245.0   \n",
       "0   NaN       NaN       NaN           NaN         NaN   NaN    NaN        NaN   \n",
       "0   NaN       NaN       NaN           NaN         NaN   NaN    NaN        NaN   \n",
       "0   0.0 -86.66848  31.08605  2.311403e+08   79.541850  None   None   111487.0   \n",
       "0   NaN       NaN       NaN           NaN         NaN   NaN    NaN        NaN   \n",
       "\n",
       "                     Name  \n",
       "0                     NaN  \n",
       "0                     NaN  \n",
       "0                     NaN  \n",
       "0                     NaN  \n",
       "0  NY20211109191829844000  \n",
       "0                     NaN  \n",
       "0                     NaN  \n",
       "\n",
       "[7 rows x 33 columns]"
      ]
     },
     "execution_count": 6,
     "metadata": {},
     "output_type": "execute_result"
    }
   ],
   "source": [
    "ats_watersheds"
   ]
  },
  {
   "cell_type": "code",
   "execution_count": 7,
   "id": "59c274be",
   "metadata": {},
   "outputs": [
    {
     "data": {
      "text/plain": [
       "<AxesSubplot:>"
      ]
     },
     "execution_count": 7,
     "metadata": {},
     "output_type": "execute_result"
    },
    {
     "data": {
      "image/png": "[encoded data removed]",
      "text/plain": [
       "<Figure size 640x480 with 1 Axes>"
      ]
     },
     "metadata": {},
     "output_type": "display_data"
    }
   ],
   "source": [
    "CossatotRiver.plot()"
   ]
  },
  {
   "cell_type": "code",
   "execution_count": 5,
   "id": "fd17f113",
   "metadata": {},
   "outputs": [],
   "source": [
    "from pynhd import NLDI\n",
    "from pygeohydro import NWIS\n",
    "id=\"07340300\"\n",
    "basins = NLDI().get_basins([id])\n",
    "basins = basins.to_crs('EPSG:4326')\n",
    "basins.to_file('basin_%s.json'%(id), driver=\"GeoJSON\")"
   ]
  },
  {
   "cell_type": "code",
   "execution_count": 2,
   "id": "39719638",
   "metadata": {},
   "outputs": [
    {
     "data": {
      "text/plain": [
       "<AxesSubplot:>"
      ]
     },
     "execution_count": 2,
     "metadata": {},
     "output_type": "execute_result"
    },
    {
     "data": {
      "image/png": "[encoded data removed]",
      "text/plain": [
       "<Figure size 640x480 with 1 Axes>"
      ]
     },
     "metadata": {},
     "output_type": "display_data"
    }
   ],
   "source": [
    "basins.plot()"
   ]
  },
  {
   "cell_type": "code",
   "execution_count": 6,
   "id": "28c6bb8c",
   "metadata": {},
   "outputs": [],
   "source": []
  },
  {
   "cell_type": "code",
   "execution_count": 11,
   "id": "76d8229b",
   "metadata": {},
   "outputs": [],
   "source": [
    "#merged = gpd.overlay(CossatotRiver, basins, how='intersection')\n",
    "merged = gpd.overlay(CossatotRiver, basins, how='difference')"
   ]
  },
  {
   "cell_type": "code",
   "execution_count": 7,
   "id": "8b82ec75",
   "metadata": {},
   "outputs": [
    {
     "name": "stdout",
     "output_type": "stream",
     "text": [
      "ats_csv_to_netcdf.ipynb  \u001b[0m\u001b[01;34mcache\u001b[0m/                    merge_shapefiles.ipynb\n",
      "basin_07340300.json      download_from_usgs.ipynb\n"
     ]
    }
   ],
   "source": [
    "ls"
   ]
  },
  {
   "cell_type": "code",
   "execution_count": 26,
   "id": "ecfbcc3b",
   "metadata": {},
   "outputs": [
    {
     "data": {
      "text/html": [
       "<div>\n",
       "<style scoped>\n",
       "    .dataframe tbody tr th:only-of-type {\n",
       "        vertical-align: middle;\n",
       "    }\n",
       "\n",
       "    .dataframe tbody tr th {\n",
       "        vertical-align: top;\n",
       "    }\n",
       "\n",
       "    .dataframe thead th {\n",
       "        text-align: right;\n",
       "    }\n",
       "</style>\n",
       "<table border=\"1\" class=\"dataframe\">\n",
       "  <thead>\n",
       "    <tr style=\"text-align: right;\">\n",
       "      <th></th>\n",
       "      <th>OBJECTID</th>\n",
       "      <th>tnmid</th>\n",
       "      <th>metasource</th>\n",
       "      <th>sourcedata</th>\n",
       "      <th>sourceorig</th>\n",
       "      <th>sourcefeat</th>\n",
       "      <th>loaddate</th>\n",
       "      <th>noncontrib</th>\n",
       "      <th>noncontr_1</th>\n",
       "      <th>areasqkm</th>\n",
       "      <th>...</th>\n",
       "      <th>referenceg</th>\n",
       "      <th>name</th>\n",
       "      <th>states</th>\n",
       "      <th>huc12</th>\n",
       "      <th>hutype</th>\n",
       "      <th>humod</th>\n",
       "      <th>tohuc</th>\n",
       "      <th>Shape_Leng</th>\n",
       "      <th>Shape_Area</th>\n",
       "      <th>geometry</th>\n",
       "    </tr>\n",
       "  </thead>\n",
       "  <tbody>\n",
       "    <tr>\n",
       "      <th>0</th>\n",
       "      <td>27316.0</td>\n",
       "      <td>{E280A738-4AAA-4F24-840D-D342DE6B816E}</td>\n",
       "      <td>{86C7BAFF-1268-48BE-A1E8-834E5348D387}</td>\n",
       "      <td>1</td>\n",
       "      <td>None</td>\n",
       "      <td>None</td>\n",
       "      <td>2017/12/14 10:58:12.000</td>\n",
       "      <td>0.0</td>\n",
       "      <td>0.0</td>\n",
       "      <td>90.15</td>\n",
       "      <td>...</td>\n",
       "      <td>None</td>\n",
       "      <td>Brushy Creek</td>\n",
       "      <td>AR</td>\n",
       "      <td>111401090401</td>\n",
       "      <td>S</td>\n",
       "      <td>NM</td>\n",
       "      <td>111401090403</td>\n",
       "      <td>0.566643</td>\n",
       "      <td>0.008843</td>\n",
       "      <td>POLYGON ((-94.02346 34.39203, -94.02356 34.392...</td>\n",
       "    </tr>\n",
       "  </tbody>\n",
       "</table>\n",
       "<p>1 rows × 21 columns</p>\n",
       "</div>"
      ],
      "text/plain": [
       "   OBJECTID                                   tnmid  \\\n",
       "0   27316.0  {E280A738-4AAA-4F24-840D-D342DE6B816E}   \n",
       "\n",
       "                               metasource sourcedata sourceorig sourcefeat  \\\n",
       "0  {86C7BAFF-1268-48BE-A1E8-834E5348D387}          1       None       None   \n",
       "\n",
       "                  loaddate  noncontrib  noncontr_1  areasqkm  ...  referenceg  \\\n",
       "0  2017/12/14 10:58:12.000         0.0         0.0     90.15  ...        None   \n",
       "\n",
       "           name states         huc12 hutype humod         tohuc Shape_Leng  \\\n",
       "0  Brushy Creek     AR  111401090401      S    NM  111401090403   0.566643   \n",
       "\n",
       "   Shape_Area                                           geometry  \n",
       "0    0.008843  POLYGON ((-94.02346 34.39203, -94.02356 34.392...  \n",
       "\n",
       "[1 rows x 21 columns]"
      ]
     },
     "execution_count": 26,
     "metadata": {},
     "output_type": "execute_result"
    }
   ],
   "source": [
    "merged"
   ]
  },
  {
   "cell_type": "code",
   "execution_count": 27,
   "id": "91ed0b14",
   "metadata": {},
   "outputs": [
    {
     "data": {
      "text/html": [
       "<div>\n",
       "<style scoped>\n",
       "    .dataframe tbody tr th:only-of-type {\n",
       "        vertical-align: middle;\n",
       "    }\n",
       "\n",
       "    .dataframe tbody tr th {\n",
       "        vertical-align: top;\n",
       "    }\n",
       "\n",
       "    .dataframe thead th {\n",
       "        text-align: right;\n",
       "    }\n",
       "</style>\n",
       "<table border=\"1\" class=\"dataframe\">\n",
       "  <thead>\n",
       "    <tr style=\"text-align: right;\">\n",
       "      <th></th>\n",
       "      <th>OBJECTID</th>\n",
       "      <th>tnmid</th>\n",
       "      <th>metasource</th>\n",
       "      <th>sourcedata</th>\n",
       "      <th>sourceorig</th>\n",
       "      <th>sourcefeat</th>\n",
       "      <th>loaddate</th>\n",
       "      <th>noncontrib</th>\n",
       "      <th>noncontr_1</th>\n",
       "      <th>areasqkm</th>\n",
       "      <th>...</th>\n",
       "      <th>referenceg</th>\n",
       "      <th>name</th>\n",
       "      <th>states</th>\n",
       "      <th>huc12</th>\n",
       "      <th>hutype</th>\n",
       "      <th>humod</th>\n",
       "      <th>tohuc</th>\n",
       "      <th>Shape_Leng</th>\n",
       "      <th>Shape_Area</th>\n",
       "      <th>geometry</th>\n",
       "    </tr>\n",
       "  </thead>\n",
       "  <tbody>\n",
       "    <tr>\n",
       "      <th>0</th>\n",
       "      <td>27316.0</td>\n",
       "      <td>{E280A738-4AAA-4F24-840D-D342DE6B816E}</td>\n",
       "      <td>{86C7BAFF-1268-48BE-A1E8-834E5348D387}</td>\n",
       "      <td>1</td>\n",
       "      <td>None</td>\n",
       "      <td>None</td>\n",
       "      <td>2017/12/14 10:58:12.000</td>\n",
       "      <td>0.0</td>\n",
       "      <td>0.0</td>\n",
       "      <td>90.15</td>\n",
       "      <td>...</td>\n",
       "      <td>None</td>\n",
       "      <td>Brushy Creek</td>\n",
       "      <td>AR</td>\n",
       "      <td>111401090401</td>\n",
       "      <td>S</td>\n",
       "      <td>NM</td>\n",
       "      <td>111401090403</td>\n",
       "      <td>0.566643</td>\n",
       "      <td>0.008843</td>\n",
       "      <td>POLYGON ((-94.02331 34.39206, -94.02351 34.392...</td>\n",
       "    </tr>\n",
       "  </tbody>\n",
       "</table>\n",
       "<p>1 rows × 21 columns</p>\n",
       "</div>"
      ],
      "text/plain": [
       "   OBJECTID                                   tnmid  \\\n",
       "0   27316.0  {E280A738-4AAA-4F24-840D-D342DE6B816E}   \n",
       "\n",
       "                               metasource sourcedata sourceorig sourcefeat  \\\n",
       "0  {86C7BAFF-1268-48BE-A1E8-834E5348D387}          1       None       None   \n",
       "\n",
       "                  loaddate  noncontrib  noncontr_1  areasqkm  ...  referenceg  \\\n",
       "0  2017/12/14 10:58:12.000         0.0         0.0     90.15  ...        None   \n",
       "\n",
       "           name states         huc12 hutype humod         tohuc Shape_Leng  \\\n",
       "0  Brushy Creek     AR  111401090401      S    NM  111401090403   0.566643   \n",
       "\n",
       "   Shape_Area                                           geometry  \n",
       "0    0.008843  POLYGON ((-94.02331 34.39206, -94.02351 34.392...  \n",
       "\n",
       "[1 rows x 21 columns]"
      ]
     },
     "execution_count": 27,
     "metadata": {},
     "output_type": "execute_result"
    }
   ],
   "source": [
    "CossatotRiver"
   ]
  },
  {
   "cell_type": "code",
   "execution_count": 28,
   "id": "4d384ab5",
   "metadata": {},
   "outputs": [
    {
     "data": {
      "text/html": [
       "<div>\n",
       "<style scoped>\n",
       "    .dataframe tbody tr th:only-of-type {\n",
       "        vertical-align: middle;\n",
       "    }\n",
       "\n",
       "    .dataframe tbody tr th {\n",
       "        vertical-align: top;\n",
       "    }\n",
       "\n",
       "    .dataframe thead th {\n",
       "        text-align: right;\n",
       "    }\n",
       "</style>\n",
       "<table border=\"1\" class=\"dataframe\">\n",
       "  <thead>\n",
       "    <tr style=\"text-align: right;\">\n",
       "      <th></th>\n",
       "      <th>geometry</th>\n",
       "    </tr>\n",
       "    <tr>\n",
       "      <th>identifier</th>\n",
       "      <th></th>\n",
       "    </tr>\n",
       "  </thead>\n",
       "  <tbody>\n",
       "    <tr>\n",
       "      <th>07340300</th>\n",
       "      <td>POLYGON ((-94.25121 34.34012, -94.25177 34.341...</td>\n",
       "    </tr>\n",
       "  </tbody>\n",
       "</table>\n",
       "</div>"
      ],
      "text/plain": [
       "                                                     geometry\n",
       "identifier                                                   \n",
       "07340300    POLYGON ((-94.25121 34.34012, -94.25177 34.341..."
      ]
     },
     "execution_count": 28,
     "metadata": {},
     "output_type": "execute_result"
    }
   ],
   "source": [
    "basins"
   ]
  },
  {
   "cell_type": "code",
   "execution_count": 29,
   "id": "7dbd10d5",
   "metadata": {},
   "outputs": [
    {
     "name": "stderr",
     "output_type": "stream",
     "text": [
      "/tmp/ipykernel_679139/2793086408.py:1: UserWarning: Geometry is in a geographic CRS. Results from 'area' are likely incorrect. Use 'GeoSeries.to_crs()' to re-project geometries to a projected CRS before this operation.\n",
      "\n",
      "  merged.geometry.area\n"
     ]
    },
    {
     "data": {
      "text/plain": [
       "0    0.022537\n",
       "dtype: float64"
      ]
     },
     "execution_count": 29,
     "metadata": {},
     "output_type": "execute_result"
    }
   ],
   "source": [
    "merged.geometry.area"
   ]
  },
  {
   "cell_type": "code",
   "execution_count": 30,
   "id": "cdfa45f1",
   "metadata": {},
   "outputs": [
    {
     "name": "stderr",
     "output_type": "stream",
     "text": [
      "/tmp/ipykernel_679139/2861255281.py:1: UserWarning: Geometry is in a geographic CRS. Results from 'area' are likely incorrect. Use 'GeoSeries.to_crs()' to re-project geometries to a projected CRS before this operation.\n",
      "\n",
      "  CossatotRiver.geometry.area\n"
     ]
    },
    {
     "data": {
      "text/plain": [
       "0    0.022618\n",
       "dtype: float64"
      ]
     },
     "execution_count": 30,
     "metadata": {},
     "output_type": "execute_result"
    }
   ],
   "source": [
    "CossatotRiver.geometry.area"
   ]
  },
  {
   "cell_type": "code",
   "execution_count": 31,
   "id": "e8511cb4",
   "metadata": {},
   "outputs": [
    {
     "name": "stderr",
     "output_type": "stream",
     "text": [
      "/tmp/ipykernel_679139/4240722150.py:1: UserWarning: Geometry is in a geographic CRS. Results from 'area' are likely incorrect. Use 'GeoSeries.to_crs()' to re-project geometries to a projected CRS before this operation.\n",
      "\n",
      "  basins.geometry.area\n"
     ]
    },
    {
     "data": {
      "text/plain": [
       "identifier\n",
       "07340300    0.024761\n",
       "dtype: float64"
      ]
     },
     "execution_count": 31,
     "metadata": {},
     "output_type": "execute_result"
    }
   ],
   "source": [
    "basins.geometry.area"
   ]
  },
  {
   "cell_type": "code",
   "execution_count": null,
   "id": "2cd77dd7",
   "metadata": {},
   "outputs": [],
   "source": [
    "fig, ax = plt.subplots(figsize=(15, 15))\n",
    "CossatotRiver.plot(color='red', ax=ax, alpha=0.25)\n",
    "basins.plot(color='blue', ax=ax, alpha=0.25)"
   ]
  },
  {
   "cell_type": "code",
   "execution_count": 44,
   "id": "34061236",
   "metadata": {},
   "outputs": [
    {
     "data": {
      "text/html": [
       "<div>\n",
       "<style scoped>\n",
       "    .dataframe tbody tr th:only-of-type {\n",
       "        vertical-align: middle;\n",
       "    }\n",
       "\n",
       "    .dataframe tbody tr th {\n",
       "        vertical-align: top;\n",
       "    }\n",
       "\n",
       "    .dataframe thead th {\n",
       "        text-align: right;\n",
       "    }\n",
       "</style>\n",
       "<table border=\"1\" class=\"dataframe\">\n",
       "  <thead>\n",
       "    <tr style=\"text-align: right;\">\n",
       "      <th></th>\n",
       "      <th>agency_cd</th>\n",
       "      <th>site_no</th>\n",
       "      <th>station_nm</th>\n",
       "      <th>site_tp_cd</th>\n",
       "      <th>dec_lat_va</th>\n",
       "      <th>dec_long_va</th>\n",
       "      <th>coord_acy_cd</th>\n",
       "      <th>dec_coord_datum_cd</th>\n",
       "      <th>alt_va</th>\n",
       "      <th>alt_acy_va</th>\n",
       "      <th>alt_datum_cd</th>\n",
       "      <th>huc_cd</th>\n",
       "      <th>drain_sqkm</th>\n",
       "      <th>hcdn_2009</th>\n",
       "      <th>geometry</th>\n",
       "    </tr>\n",
       "  </thead>\n",
       "  <tbody>\n",
       "    <tr>\n",
       "      <th>0</th>\n",
       "      <td>USGS</td>\n",
       "      <td>07340300</td>\n",
       "      <td>Cossatot River Near Vandervoort, AR</td>\n",
       "      <td>ST</td>\n",
       "      <td>34.38</td>\n",
       "      <td>-94.236389</td>\n",
       "      <td>T</td>\n",
       "      <td>NAD83</td>\n",
       "      <td>771.74</td>\n",
       "      <td>0.2</td>\n",
       "      <td>NAVD88</td>\n",
       "      <td>11140109</td>\n",
       "      <td>230.4347</td>\n",
       "      <td>True</td>\n",
       "      <td>POINT (-94.23639 34.38000)</td>\n",
       "    </tr>\n",
       "  </tbody>\n",
       "</table>\n",
       "</div>"
      ],
      "text/plain": [
       "  agency_cd   site_no                           station_nm site_tp_cd  \\\n",
       "0      USGS  07340300  Cossatot River Near Vandervoort, AR         ST   \n",
       "\n",
       "   dec_lat_va  dec_long_va coord_acy_cd dec_coord_datum_cd  alt_va  \\\n",
       "0       34.38   -94.236389            T              NAD83  771.74   \n",
       "\n",
       "   alt_acy_va alt_datum_cd    huc_cd  drain_sqkm  hcdn_2009  \\\n",
       "0         0.2       NAVD88  11140109    230.4347       True   \n",
       "\n",
       "                     geometry  \n",
       "0  POINT (-94.23639 34.38000)  "
      ]
     },
     "execution_count": 44,
     "metadata": {},
     "output_type": "execute_result"
    }
   ],
   "source": [
    "info"
   ]
  },
  {
   "cell_type": "code",
   "execution_count": null,
   "id": "0d4ab955",
   "metadata": {},
   "outputs": [],
   "source": []
  }
 ],
 "metadata": {
  "kernelspec": {
   "display_name": "ilamb-dev",
   "language": "python",
   "name": "ilamb-dev"
  },
  "language_info": {
   "codemirror_mode": {
    "name": "ipython",
    "version": 3
   },
   "file_extension": ".py",
   "mimetype": "text/x-python",
   "name": "python",
   "nbconvert_exporter": "python",
   "pygments_lexer": "ipython3",
   "version": "3.10.6"
  }
 },
 "nbformat": 4,
 "nbformat_minor": 5
}
